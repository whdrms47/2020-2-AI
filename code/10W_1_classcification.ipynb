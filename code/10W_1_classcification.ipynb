{
  "nbformat": 4,
  "nbformat_minor": 0,
  "metadata": {
    "colab": {
      "name": "10W-1-classcification.ipynb",
      "provenance": [],
      "collapsed_sections": []
    },
    "kernelspec": {
      "name": "python3",
      "display_name": "Python 3"
    }
  },
  "cells": [
    {
      "cell_type": "code",
      "metadata": {
        "id": "iIT2YiJ9gEhW"
      },
      "source": [
        "#이진분류는 시그모이드 함수와 소프트맥스 함수로 가능\n",
        "#3차에는 소프트맥스 함수를 이용\n",
        "#소프트맥스함수 : 뉴런값을 확률값으로 바꾸는 함수(항상 양수)\n",
        "#크로스 엔트로피 : 분류에서의 손실함수"
      ],
      "execution_count": null,
      "outputs": []
    },
    {
      "cell_type": "code",
      "metadata": {
        "id": "WEC4scH6sHEc",
        "colab": {
          "base_uri": "https://localhost:8080/"
        },
        "outputId": "bb8ead0b-b4ee-4e70-d69a-2bbd9a9175e8"
      },
      "source": [
        "#크로스 엔트로피 손실 함수(원핫 인코딩)\n",
        "import tensorflow as tf\n",
        "\n",
        "y_true = [[0, 1, 0], [0, 0, 1]] #원핫 인코딩으로 정답이 있어야함 tf.keras.losses.categorical_crossentropy\n",
        "y_pred = [[0.05, 0.95, 0], [0.1, 0.8, 0.1]] #첫번째 정답 두번째 오답\n",
        "loss = tf.keras.losses.categorical_crossentropy(y_true, y_pred)\n",
        "loss.numpy()"
      ],
      "execution_count": null,
      "outputs": [
        {
          "output_type": "execute_result",
          "data": {
            "text/plain": [
              "array([0.05129331, 2.3025851 ], dtype=float32)"
            ]
          },
          "metadata": {
            "tags": []
          },
          "execution_count": 2
        }
      ]
    },
    {
      "cell_type": "code",
      "metadata": {
        "id": "kFFr_eCbt9qM",
        "colab": {
          "base_uri": "https://localhost:8080/"
        },
        "outputId": "86e9cc6b-9b39-4357-a196-bc9c2e564acf"
      },
      "source": [
        "#크로스 엔트로피 손실 함수(일반유형)\n",
        "import tensorflow as tf\n",
        "\n",
        "y_true = [[1], [2]] #일반유형 값들은 정답\n",
        "y_pred = [[0.05,0.95, 0], [0.1, 0.8, 0.1]]\n",
        "loss = tf.keras.losses.sparse_categorical_crossentropy(y_true, y_pred)\n",
        "loss.numpy()"
      ],
      "execution_count": null,
      "outputs": [
        {
          "output_type": "execute_result",
          "data": {
            "text/plain": [
              "array([0.05129344, 2.3025851 ], dtype=float32)"
            ]
          },
          "metadata": {
            "tags": []
          },
          "execution_count": 3
        }
      ]
    },
    {
      "cell_type": "code",
      "metadata": {
        "id": "_nljJyZFvA7E",
        "colab": {
          "base_uri": "https://localhost:8080/"
        },
        "outputId": "01596189-7f58-4525-90c6-fa959ed4de44"
      },
      "source": [
        "#크로스 엔트로피 손실 함수(일반유형을 원핫인코딩으로 변환)\n",
        "import tensorflow as tf\n",
        "\n",
        "y_true = [[1], [2]]\n",
        "y_true = tf.one_hot(y_true, depth=3)\n",
        "print(y_true)\n",
        "y_true = tf.reshape(y_true, [-1, 3])\n",
        "print(y_true)\n",
        "y_pred = [[0.05,0.95, 0], [0.1, 0.8, 0.1]]\n",
        "loss = tf.keras.losses.categorical_crossentropy(y_true, y_pred)\n",
        "loss.numpy()\n"
      ],
      "execution_count": null,
      "outputs": [
        {
          "output_type": "stream",
          "text": [
            "tf.Tensor(\n",
            "[[[0. 1. 0.]]\n",
            "\n",
            " [[0. 0. 1.]]], shape=(2, 1, 3), dtype=float32)\n",
            "tf.Tensor(\n",
            "[[0. 1. 0.]\n",
            " [0. 0. 1.]], shape=(2, 3), dtype=float32)\n"
          ],
          "name": "stdout"
        },
        {
          "output_type": "execute_result",
          "data": {
            "text/plain": [
              "array([0.05129331, 2.3025851 ], dtype=float32)"
            ]
          },
          "metadata": {
            "tags": []
          },
          "execution_count": 4
        }
      ]
    },
    {
      "cell_type": "code",
      "metadata": {
        "id": "99ck2bDzwOOM",
        "colab": {
          "base_uri": "https://localhost:8080/"
        },
        "outputId": "57c63729-d5f1-4bde-f789-6d5706a33f5f"
      },
      "source": [
        "#크로스 엔트로피 손실 값 직접 계산\n",
        "import tensorflow as tf\n",
        "import numpy as np\n",
        "\n",
        "y_true = tf.reshape(tf.one_hot([[1],[2]], depth=3), [-1, 3])\n",
        "y_pred = [[0.05, 0.95, 0],[0.1, 0.8, 0.1]]\n",
        "\n",
        "loss = tf.keras.losses.categorical_crossentropy(y_true, y_pred)\n",
        "print(loss.numpy())\n",
        "\n",
        "print(-np.log(0.95), -np.log(0.1))"
      ],
      "execution_count": null,
      "outputs": [
        {
          "output_type": "stream",
          "text": [
            "[0.05129331 2.3025851 ]\n",
            "0.05129329438755058 2.3025850929940455\n"
          ],
          "name": "stdout"
        }
      ]
    },
    {
      "cell_type": "code",
      "metadata": {
        "id": "MoH5dJAXx5EM",
        "colab": {
          "base_uri": "https://localhost:8080/"
        },
        "outputId": "629c2c41-ef26-4895-b1d6-06bcec7e2123"
      },
      "source": [
        "#소프트맥스 함수\n",
        "import tensorflow as tf\n",
        "import numpy as np\n",
        "\n",
        "a = np.array([[0.3, 2.9, 4.0]])\n",
        "sm = tf.keras.activations.softmax(tf.convert_to_tensor(a))\n",
        "print(sm.numpy())"
      ],
      "execution_count": null,
      "outputs": [
        {
          "output_type": "stream",
          "text": [
            "[[0.01821127 0.24519181 0.73659691]]\n"
          ],
          "name": "stdout"
        }
      ]
    },
    {
      "cell_type": "code",
      "metadata": {
        "id": "CC89wrE_XGP5"
      },
      "source": [
        ""
      ],
      "execution_count": null,
      "outputs": []
    },
    {
      "cell_type": "code",
      "metadata": {
        "id": "3sY2S83syrGN",
        "colab": {
          "base_uri": "https://localhost:8080/",
          "height": 265
        },
        "outputId": "d559806b-61b8-4a62-ab2e-571e6489de04"
      },
      "source": [
        "#크로스 엔트로피 손실함수 직접 그리기\n",
        "import numpy as np\n",
        "import matplotlib.pyplot as plt\n",
        "\n",
        "alpha = 0.1e-1\n",
        "x = np.linspace(0+alpha, 1-alpha, 100)\n",
        "y1 = -np.log(x)\n",
        "y2 = -np.log(1-x)\n",
        "\n",
        "plt.axhline(y=0, color='r', linestyle='--', linewidth=1)\n",
        "plt.axvline(x=1, color='r', linestyle='-.', linewidth=.5)\n",
        "plt.axvline(x=0, color='r', linestyle='-.', linewidth=.5)\n",
        "plt.plot(x, y1, label='-log(x)')\n",
        "plt.plot(x, y2, label='-log(1-x)')\n",
        "plt.legend(loc='best')\n",
        "plt.show()"
      ],
      "execution_count": null,
      "outputs": [
        {
          "output_type": "display_data",
          "data": {
            "image/png": "[encoded data removed]",
            "text/plain": [
              "<Figure size 432x288 with 1 Axes>"
            ]
          },
          "metadata": {
            "tags": [],
            "needs_background": "light"
          }
        }
      ]
    },
    {
      "cell_type": "code",
      "metadata": {
        "colab": {
          "base_uri": "https://localhost:8080/"
        },
        "id": "VZV0s7bRXEk4",
        "outputId": "18e55fc8-0dbf-4a14-a046-0490835f5fb8"
      },
      "source": [
        "#일반 값 사용 크로스 엔트로피 손실 함수\n",
        "import tensorflow as tf\n",
        "\n",
        "y_true = [[1], [2]]\n",
        "y_pred = [[0.05, 0.95, 0], [0.1, 0.8, 0.1]]\n",
        "loss = tf.keras.losses.sparse_categorical_crossentropy(y_true, y_pred)\n",
        "loss.numpy()"
      ],
      "execution_count": null,
      "outputs": [
        {
          "output_type": "execute_result",
          "data": {
            "text/plain": [
              "array([0.05129344, 2.3025851 ], dtype=float32)"
            ]
          },
          "metadata": {
            "tags": []
          },
          "execution_count": 5
        }
      ]
    },
    {
      "cell_type": "code",
      "metadata": {
        "id": "_-4POPT8X0ai"
      },
      "source": [
        ""
      ],
      "execution_count": null,
      "outputs": []
    }
  ]
}