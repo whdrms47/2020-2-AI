{
  "nbformat": 4,
  "nbformat_minor": 0,
  "metadata": {
    "colab": {
      "name": "cnn_basic.ipynb",
      "provenance": [],
      "collapsed_sections": []
    },
    "kernelspec": {
      "name": "python3",
      "display_name": "Python 3"
    }
  },
  "cells": [
    {
      "cell_type": "code",
      "metadata": {
        "id": "UC8CIH2KdjJ8"
      },
      "source": [
        "import numpy as np\n",
        "import tensorflow as tf\n",
        "import matplotlib.pyplot as plt"
      ],
      "execution_count": null,
      "outputs": []
    },
    {
      "cell_type": "code",
      "metadata": {
        "colab": {
          "base_uri": "https://localhost:8080/",
          "height": 521
        },
        "id": "ISXZuHvFd0qq",
        "outputId": "bc7a7944-0cfc-4fa4-8cac-ad2b4c303c8c"
      },
      "source": [
        "image = np.array([[[1,2,3],\n",
        "                   [4,5,6],\n",
        "                   [7,8,9]]], dtype=np.float32)\n",
        "print(image.shape)\n",
        "image = image.reshape(-1, 3, 3, 1)\n",
        "'''\n",
        "image = np.array([[[1,2,3],\n",
        "                   [4,5,6],\n",
        "                   [7,8,9]]], dype=np.float32)\n",
        "'''\n",
        "print(image.shape)\n",
        "print(image)\n",
        "plt.imshow(image.reshape(3,3), cmap='Greys')"
      ],
      "execution_count": null,
      "outputs": [
        {
          "output_type": "stream",
          "text": [
            "(1, 3, 3)\n",
            "(1, 3, 3, 1)\n",
            "[[[[1.]\n",
            "   [2.]\n",
            "   [3.]]\n",
            "\n",
            "  [[4.]\n",
            "   [5.]\n",
            "   [6.]]\n",
            "\n",
            "  [[7.]\n",
            "   [8.]\n",
            "   [9.]]]]\n"
          ],
          "name": "stdout"
        },
        {
          "output_type": "execute_result",
          "data": {
            "text/plain": [
              "<matplotlib.image.AxesImage at 0x7f39a1d18a20>"
            ]
          },
          "metadata": {
            "tags": []
          },
          "execution_count": 5
        },
        {
          "output_type": "display_data",
          "data": {
            "image/png": "[encoded data removed]",
            "text/plain": [
              "<Figure size 432x288 with 1 Axes>"
            ]
          },
          "metadata": {
            "tags": [],
            "needs_background": "light"
          }
        }
      ]
    },
    {
      "cell_type": "code",
      "metadata": {
        "colab": {
          "base_uri": "https://localhost:8080/",
          "height": 305
        },
        "id": "hL9DWVuCeaHy",
        "outputId": "9068c879-31ee-49d3-9bd3-b51fb2fa0774"
      },
      "source": [
        "#4차원의 이미지\n",
        "image = np.array([[[[1],[2],[3]],\n",
        "                   [[4],[5],[6]],\n",
        "                   [[7],[8],[9]]]], dtype=np.float32)\n",
        "print(image.shape)\n",
        "plt.imshow(image.reshape(3,3), cmap='Greys')"
      ],
      "execution_count": null,
      "outputs": [
        {
          "output_type": "stream",
          "text": [
            "(1, 3, 3, 1)\n"
          ],
          "name": "stdout"
        },
        {
          "output_type": "execute_result",
          "data": {
            "text/plain": [
              "<matplotlib.image.AxesImage at 0x7f39a1cfa358>"
            ]
          },
          "metadata": {
            "tags": []
          },
          "execution_count": 6
        },
        {
          "output_type": "display_data",
          "data": {
            "image/png": "[encoded data removed]",
            "text/plain": [
              "<Figure size 432x288 with 1 Axes>"
            ]
          },
          "metadata": {
            "tags": [],
            "needs_background": "light"
          }
        }
      ]
    },
    {
      "cell_type": "code",
      "metadata": {
        "colab": {
          "base_uri": "https://localhost:8080/",
          "height": 467
        },
        "id": "L8QyANXEfGA6",
        "outputId": "50c45580-0c9d-455f-e5ac-c065418941fe"
      },
      "source": [
        "#tf.nn.conv2d\n",
        "image = np.array([[[[1],[2],[3]],\n",
        "                   [[4],[5],[6]],\n",
        "                   [[7],[8],[9]]]], dtype=np.float32)\n",
        "print(\"image.shape\", image.shape)\n",
        "\n",
        "#wight가 커널\n",
        "weight = tf.constant([[[[1.]],[[1.]]],\n",
        "                     [[[1.]],[[1.]]]])\n",
        "print(\"weight.shape\", weight.shape)\n",
        "\n",
        "conv2d = tf.nn.conv2d(image, weight, strides=[1, 1, 1, 1],\n",
        "                      padding='VALID')\n",
        "print(\"conv2d.shape\", conv2d.shape)\n",
        "\n",
        "conv2d_img = np.swapaxes(conv2d, 0, 3)\n",
        "print(type(conv2d_img))\n",
        "print(conv2d_img)\n",
        "\n",
        "for i, one_img in enumerate(conv2d_img):\n",
        "  print(one_img.reshape(2,2))\n",
        "  plt.subplot(1, 1, i+1)\n",
        "  plt.imshow(one_img.reshape(2,2), cmap='gray')"
      ],
      "execution_count": null,
      "outputs": [
        {
          "output_type": "stream",
          "text": [
            "image.shape (1, 3, 3, 1)\n",
            "weight.shape (2, 2, 1, 1)\n",
            "conv2d.shape (1, 2, 2, 1)\n",
            "<class 'numpy.ndarray'>\n",
            "[[[[12.]\n",
            "   [16.]]\n",
            "\n",
            "  [[24.]\n",
            "   [28.]]]]\n",
            "[[12. 16.]\n",
            " [24. 28.]]\n"
          ],
          "name": "stdout"
        },
        {
          "output_type": "display_data",
          "data": {
            "image/png": "[encoded data removed]",
            "text/plain": [
              "<Figure size 432x288 with 1 Axes>"
            ]
          },
          "metadata": {
            "tags": [],
            "needs_background": "light"
          }
        }
      ]
    },
    {
      "cell_type": "code",
      "metadata": {
        "colab": {
          "base_uri": "https://localhost:8080/",
          "height": 362
        },
        "id": "OgRfzsxsgUO1",
        "outputId": "695ad0fb-adba-4fb8-c2ef-4c699ce921be"
      },
      "source": [
        "#2x2 커널 2개 적용 컨볼루션\n",
        "x_in = np.array([[\n",
        "                  [[2], [1], [2], [0], [1]],\n",
        "                  [[1], [3], [2], [2], [3]],\n",
        "                  [[1], [1], [3], [3], [0]],\n",
        "                  [[2], [2], [0], [1], [1]],\n",
        "                  [[0], [0], [3], [1], [2]], ]])\n",
        "x = tf.constant(x_in, dtype=tf.float32)\n",
        "\n",
        "# 2x2 커널 2개 적용\n",
        "kernel_in = np.array([\n",
        "                      [[[2, 0.1]],[[3, 0.2]] ],\n",
        "                      [[[0, 0.3]],[[1, 0.4]] ],  ])\n",
        "kernel = tf.constant(kernel_in, dtype=tf.float32)\n",
        "\n",
        "conv2d = tf.nn.conv2d(x, kernel, strides=[1, 1, 1, 1], padding='VALID')\n",
        "print(\"conv2d.shape\", conv2d.shape)\n",
        "\n",
        "conv2d_img = np.swapaxes(conv2d, 0, 3)\n",
        "for i, one_img in enumerate(conv2d_img):\n",
        "  print(one_img.reshape(4,4))\n",
        "  plt.subplot(1, 2, i+1), plt.imshow(one_img.reshape(4,4), cmap='gray')"
      ],
      "execution_count": null,
      "outputs": [
        {
          "output_type": "stream",
          "text": [
            "conv2d.shape (1, 4, 4, 2)\n",
            "[[10. 10.  6.  6.]\n",
            " [12. 15. 13. 13.]\n",
            " [ 7. 11. 16.  7.]\n",
            " [10.  7.  4.  7.]]\n",
            "[[1.9       2.2       1.6       2.       ]\n",
            " [1.4       2.2       2.7       1.7      ]\n",
            " [1.7       1.3000001 1.3       1.       ]\n",
            " [0.6       1.4000001 1.5       1.4      ]]\n"
          ],
          "name": "stdout"
        },
        {
          "output_type": "display_data",
          "data": {
            "image/png": "[encoded data removed]",
            "text/plain": [
              "<Figure size 432x288 with 2 Axes>"
            ]
          },
          "metadata": {
            "tags": [],
            "needs_background": "light"
          }
        }
      ]
    },
    {
      "cell_type": "code",
      "metadata": {
        "colab": {
          "base_uri": "https://localhost:8080/",
          "height": 294
        },
        "id": "wW1G4QEDkpQn",
        "outputId": "ad684d05-ee43-4511-d85f-5c1ffbae7557"
      },
      "source": [
        "print(\"image.shape\", image.shape)\n",
        "\n",
        "weight = tf.constant([[[[1.]],[[1.]]],\n",
        "                       [[[1.]],[[1.]]]])\n",
        "print(\"weight.shape\", weight.shape)\n",
        "\n",
        "conv2d = tf.nn.conv2d(image, weight, strides=[1, 1, 1, 1], padding='SAME')\n",
        "\n",
        "conv2d_img = np.swapaxes(conv2d, 0, 3)\n",
        "for i, one_img in enumerate(conv2d_img):\n",
        "  print(one_img.reshape(3,3))\n",
        "  plt.subplot(1,2,i+1),plt.imshow(one_img.reshape(3,3), cmap='gray')"
      ],
      "execution_count": null,
      "outputs": [
        {
          "output_type": "stream",
          "text": [
            "image.shape (1, 3, 3, 1)\n",
            "weight.shape (2, 2, 1, 1)\n",
            "[[12. 16.  9.]\n",
            " [24. 28. 15.]\n",
            " [15. 17.  9.]]\n"
          ],
          "name": "stdout"
        },
        {
          "output_type": "display_data",
          "data": {
            "image/png": "[encoded data removed]",
            "text/plain": [
              "<Figure size 432x288 with 1 Axes>"
            ]
          },
          "metadata": {
            "tags": [],
            "needs_background": "light"
          }
        }
      ]
    },
    {
      "cell_type": "code",
      "metadata": {
        "colab": {
          "base_uri": "https://localhost:8080/",
          "height": 305
        },
        "id": "MZgF0hUtmfIN",
        "outputId": "0ac860ec-5872-4acc-cf11-2fd9b29ebdb3"
      },
      "source": [
        "#필터 3개\n",
        "image = np.array([[[[[1],[2],[3]],\n",
        "                   [[4],[5],[6]],\n",
        "                   [[7],[8],[9]]]]],dtype=np.float32)\n",
        "print(image.shape)\n",
        "plt.imshow(image.reshape(3,3), cmap='Greys')"
      ],
      "execution_count": null,
      "outputs": [
        {
          "output_type": "stream",
          "text": [
            "(1, 1, 3, 3, 1)\n"
          ],
          "name": "stdout"
        },
        {
          "output_type": "execute_result",
          "data": {
            "text/plain": [
              "<matplotlib.image.AxesImage at 0x7f399a820438>"
            ]
          },
          "metadata": {
            "tags": []
          },
          "execution_count": 22
        },
        {
          "output_type": "display_data",
          "data": {
            "image/png": "[encoded data removed]",
            "text/plain": [
              "<Figure size 432x288 with 1 Axes>"
            ]
          },
          "metadata": {
            "tags": [],
            "needs_background": "light"
          }
        }
      ]
    },
    {
      "cell_type": "code",
      "metadata": {
        "colab": {
          "base_uri": "https://localhost:8080/",
          "height": 362
        },
        "id": "n9tCpk8gm0RV",
        "outputId": "692805c2-4df2-47ae-e1c2-5e01b0af4c25"
      },
      "source": [
        "print(\"image.shape\", image.shape)\n",
        "\n",
        "weight = tf.constant([[[[1., 10., -1.]],[[1., 10., -1.]]],\n",
        "                      [[[1., 10., -1.]],[[1., 10., -1,]]]])\n",
        "print(\"wegith.shape\",weight.shape)\n",
        "\n",
        "conv2d = tf.nn.conv2d(image, weight, strides=[1, 1, 1, 1], padding='SAME')\n",
        "print(\"conv2d.shape\", conv2d.shape)\n",
        "\n",
        "conv2d_img = np.swapaxes(conv2d, 0, 3)\n",
        "for i, one_img in enumerate(conv2d_img):\n",
        "  print(one_img.reshape(3,3))\n",
        "  plt.subplot(1,3, i+1), plt.imshow(one_img.reshape(3,3), cmap='gray')"
      ],
      "execution_count": null,
      "outputs": [
        {
          "output_type": "stream",
          "text": [
            "image.shape (1, 1, 3, 3, 1)\n",
            "wegith.shape (2, 2, 1, 3)\n",
            "conv2d.shape (1, 1, 3, 3, 3)\n",
            "[[ 12. 120. -12.]\n",
            " [ 24. 240. -24.]\n",
            " [ 15. 150. -15.]]\n",
            "[[ 16. 160. -16.]\n",
            " [ 28. 280. -28.]\n",
            " [ 17. 170. -17.]]\n",
            "[[  9.  90.  -9.]\n",
            " [ 15. 150. -15.]\n",
            " [  9.  90.  -9.]]\n"
          ],
          "name": "stdout"
        },
        {
          "output_type": "display_data",
          "data": {
            "image/png": "[encoded data removed]",
            "text/plain": [
              "<Figure size 432x288 with 3 Axes>"
            ]
          },
          "metadata": {
            "tags": [],
            "needs_background": "light"
          }
        }
      ]
    },
    {
      "cell_type": "code",
      "metadata": {
        "colab": {
          "base_uri": "https://localhost:8080/"
        },
        "id": "SalXLauhoRBM",
        "outputId": "009d95ac-50a0-4637-c33f-0a09a28d199a"
      },
      "source": [
        "#커널이 2, 이미지가 2x2인 맥스풀링\n",
        "image = np.array([[[[4],[3]],\n",
        "                   [[2],[1]]]],dtype=np.float32)\n",
        "pool = tf.nn.max_pool(image, ksize=[1, 2, 2, 1],\n",
        "                      strides=[1,1,1,1], padding='VALID')\n",
        "print(pool.shape)\n",
        "print(pool.numpy())"
      ],
      "execution_count": null,
      "outputs": [
        {
          "output_type": "stream",
          "text": [
            "(1, 1, 1, 1)\n",
            "[[[[4.]]]]\n"
          ],
          "name": "stdout"
        }
      ]
    },
    {
      "cell_type": "code",
      "metadata": {
        "colab": {
          "base_uri": "https://localhost:8080/"
        },
        "id": "DFUyUoHboybW",
        "outputId": "a615f99e-2a50-4780-d01b-16229745ce1e"
      },
      "source": [
        "image = np.array([[[[4],[3]],\n",
        "                   [[2],[1]]]],dtype=np.float32)\n",
        "pool = tf.nn.max_pool(image, ksize=[1, 2, 2, 1],\n",
        "                      strides=[1, 1, 1, 1],padding='SAME')\n",
        "print(pool.shape)\n",
        "print(pool.numpy())"
      ],
      "execution_count": null,
      "outputs": [
        {
          "output_type": "stream",
          "text": [
            "(1, 2, 2, 1)\n",
            "[[[[4.]\n",
            "   [3.]]\n",
            "\n",
            "  [[2.]\n",
            "   [1.]]]]\n"
          ],
          "name": "stdout"
        }
      ]
    },
    {
      "cell_type": "code",
      "metadata": {
        "colab": {
          "base_uri": "https://localhost:8080/"
        },
        "id": "G56VLOWKpTDO",
        "outputId": "b665ab94-cc21-4691-e6ff-b58e477dd052"
      },
      "source": [
        "#학습데이터\n",
        "import tensorflow as tf\n",
        "mnist = tf.keras.datasets.mnist\n",
        "\n",
        "mnist = mnist.load_data()"
      ],
      "execution_count": null,
      "outputs": [
        {
          "output_type": "stream",
          "text": [
            "Downloading data from https://storage.googleapis.com/tensorflow/tf-keras-datasets/mnist.npz\n",
            "11493376/11490434 [==============================] - 0s 0us/step\n"
          ],
          "name": "stdout"
        }
      ]
    },
    {
      "cell_type": "code",
      "metadata": {
        "colab": {
          "base_uri": "https://localhost:8080/",
          "height": 283
        },
        "id": "FeHoqju8peSl",
        "outputId": "5c820fee-a5e3-4ff0-98c8-59d6dd621126"
      },
      "source": [
        "img = mnist[0][0][0].reshape(28,28)\n",
        "plt.imshow(img, cmap='gray')\n",
        "print(img.shape)"
      ],
      "execution_count": null,
      "outputs": [
        {
          "output_type": "stream",
          "text": [
            "(28, 28)\n"
          ],
          "name": "stdout"
        },
        {
          "output_type": "display_data",
          "data": {
            "image/png": "[encoded data removed]",
            "text/plain": [
              "<Figure size 432x288 with 1 Axes>"
            ]
          },
          "metadata": {
            "tags": [],
            "needs_background": "light"
          }
        }
      ]
    },
    {
      "cell_type": "code",
      "metadata": {
        "colab": {
          "base_uri": "https://localhost:8080/",
          "height": 126
        },
        "id": "qAEHZVFnpoId",
        "outputId": "4595a87d-b57b-4e22-d14a-789479cfd76a"
      },
      "source": [
        "#필터 크기가 3이고 strides2, 필터 수가 5\n",
        "#4차원으로 확장\n",
        "img = img.reshape(-1,28,28,1)\n",
        "# 3x3의 필터 5개 생성\n",
        "W1 = tf.Variable(tf.random.normal([3,3,1,5],stddev=0.01))\n",
        "\n",
        "conv2d = tf.nn.conv2d(img, W1, strides=[1, 2, 2, 1],padding='SAME')\n",
        "print(conv2d.shape)\n",
        "\n",
        "conv2d_img = np.swapaxes(conv2d, 0, 3)\n",
        "for i, one_img in enumerate(conv2d_img):\n",
        "  plt.subplot(1,5,i+1)\n",
        "  plt.imshow(one_img.reshape(14,14), cmap='gray')"
      ],
      "execution_count": null,
      "outputs": [
        {
          "output_type": "stream",
          "text": [
            "(1, 14, 14, 5)\n"
          ],
          "name": "stdout"
        },
        {
          "output_type": "display_data",
          "data": {
            "image/png": "[encoded data removed]",
            "text/plain": [
              "<Figure size 432x288 with 5 Axes>"
            ]
          },
          "metadata": {
            "tags": [],
            "needs_background": "light"
          }
        }
      ]
    },
    {
      "cell_type": "code",
      "metadata": {
        "colab": {
          "base_uri": "https://localhost:8080/",
          "height": 124
        },
        "id": "WcT5Hn4aqXLf",
        "outputId": "cf7f6949-dbc8-4647-86c8-5ce4a652b26d"
      },
      "source": [
        "pool = tf.nn.max_pool(conv2d, ksize=[1, 2 ,2, 1],\n",
        "                      strides=[1, 2, 2, 1], padding='SAME')\n",
        "print(pool.shape)\n",
        "\n",
        "pool_img = np.swapaxes(pool, 0, 3)\n",
        "for i, one_img in enumerate(pool_img):\n",
        "  plt.subplot(1,5,i+1)\n",
        "  plt.imshow(one_img.reshape(7,7), cmap='gray')"
      ],
      "execution_count": null,
      "outputs": [
        {
          "output_type": "stream",
          "text": [
            "(1, 7, 7, 5)\n"
          ],
          "name": "stdout"
        },
        {
          "output_type": "display_data",
          "data": {
            "image/png": "[encoded data removed]",
            "text/plain": [
              "<Figure size 432x288 with 5 Axes>"
            ]
          },
          "metadata": {
            "tags": [],
            "needs_background": "light"
          }
        }
      ]
    },
    {
      "cell_type": "code",
      "metadata": {
        "id": "f9CIBmtGq4FQ"
      },
      "source": [
        ""
      ],
      "execution_count": null,
      "outputs": []
    }
  ]
}