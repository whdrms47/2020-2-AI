{
  "nbformat": 4,
  "nbformat_minor": 0,
  "metadata": {
    "colab": {
      "name": "09W-1-tf2-ch04.ipynb",
      "provenance": [],
      "collapsed_sections": []
    },
    "kernelspec": {
      "name": "python3",
      "display_name": "Python 3"
    }
  },
  "cells": [
    {
      "cell_type": "code",
      "metadata": {
        "id": "A3OKhs9cg50k"
      },
      "source": [
        "import numpy as np"
      ],
      "execution_count": null,
      "outputs": []
    },
    {
      "cell_type": "code",
      "metadata": {
        "id": "hG2GMzjhRDPW"
      },
      "source": [
        "import math\n",
        "import matplotlib.pylab as plt"
      ],
      "execution_count": null,
      "outputs": []
    },
    {
      "cell_type": "code",
      "metadata": {
        "id": "3eQgJ07HUBbn"
      },
      "source": [
        "def sigmoid(x):\n",
        "  return 1/ (1 + math.exp(-x))"
      ],
      "execution_count": null,
      "outputs": []
    },
    {
      "cell_type": "code",
      "metadata": {
        "id": "LKDTZ0PYUHWk"
      },
      "source": [
        "x = np.arange(-5, 5, 0.01)\n",
        "sigmoid_x = [sigmoid(z) for z in x]\n",
        "tanh_x = [math.tanh(z) for z in x]"
      ],
      "execution_count": null,
      "outputs": []
    },
    {
      "cell_type": "code",
      "metadata": {
        "id": "h9YDTMTIUf-9",
        "colab": {
          "base_uri": "https://localhost:8080/",
          "height": 374
        },
        "outputId": "9e18640a-1afa-4b51-cd09-8baebcf66d6b"
      },
      "source": [
        "plt.figure(figsize = (8, 6))\n",
        "\n",
        "plt.axhline(0, color='gray')\n",
        "plt.axvline(0, color='gray')\n",
        "plt.plot(x, sigmoid_x, 'b-', label='sigmoid')\n",
        "plt.plot(x, tanh_x, 'r--', label='sigmoid')\n",
        "plt.legend()\n",
        "plt.show()"
      ],
      "execution_count": null,
      "outputs": [
        {
          "output_type": "display_data",
          "data": {
            "image/png": "[encoded data removed]",
            "text/plain": [
              "<Figure size 576x432 with 1 Axes>"
            ]
          },
          "metadata": {
            "tags": [],
            "needs_background": "light"
          }
        }
      ]
    },
    {
      "cell_type": "code",
      "metadata": {
        "id": "O6pdHbeQj9wU"
      },
      "source": [
        ""
      ],
      "execution_count": null,
      "outputs": []
    },
    {
      "cell_type": "code",
      "metadata": {
        "id": "AHW6YNasVf_F"
      },
      "source": [
        "import tensorflow as tf\n",
        "import numpy as np"
      ],
      "execution_count": null,
      "outputs": []
    },
    {
      "cell_type": "code",
      "metadata": {
        "id": "syH2i_qLWAx1",
        "colab": {
          "base_uri": "https://localhost:8080/"
        },
        "outputId": "1495a306-8dc8-460f-f222-674af23b0ca2"
      },
      "source": [
        "x = [0.3, -0.78, 1.26, 0.03, 1.11, 0.24, -0.24, -0.47, -0.77, -0.37, -0.85, -0.41, -0.27, 0.02, -0.76, 2.66]\n",
        "y = [12.27, 14.44, 11.87, 18.75, 17.52, 16.37, 19.78, 19.51, 12.65, 14.74, 10.72, 21.94, 12.83, 15.51, 17.14, 14.24]\n",
        "\n",
        "model = tf.keras.Sequential([\n",
        "  tf.keras.layers.Dense(units=6, activation='tanh', input_shape=(1,)),\n",
        "  tf.keras.layers.Dense(units=1)\n",
        "])\n",
        "\n",
        "model.compile(optimizer=tf.keras.optimizers.SGD(lr=0.1), loss='mse')\n",
        "\n",
        "model.summary"
      ],
      "execution_count": null,
      "outputs": [
        {
          "output_type": "execute_result",
          "data": {
            "text/plain": [
              "<bound method Model.summary of <tensorflow.python.keras.engine.sequential.Sequential object at 0x7f6c1effdc18>>"
            ]
          },
          "metadata": {
            "tags": []
          },
          "execution_count": 7
        }
      ]
    },
    {
      "cell_type": "code",
      "metadata": {
        "id": "Tn6bQSoxXL_X",
        "colab": {
          "base_uri": "https://localhost:8080/"
        },
        "outputId": "8afea043-f6b8-43bf-8869-0ee494caca49"
      },
      "source": [
        "model.fit(x,y, epochs=10)"
      ],
      "execution_count": null,
      "outputs": [
        {
          "output_type": "stream",
          "text": [
            "Epoch 1/10\n",
            "1/1 [==============================] - 0s 2ms/step - loss: 254.6948\n",
            "Epoch 2/10\n",
            "1/1 [==============================] - 0s 1ms/step - loss: 114.1219\n",
            "Epoch 3/10\n",
            "1/1 [==============================] - 0s 2ms/step - loss: 9.9780\n",
            "Epoch 4/10\n",
            "1/1 [==============================] - 0s 1ms/step - loss: 9.8872\n",
            "Epoch 5/10\n",
            "1/1 [==============================] - 0s 1ms/step - loss: 9.8354\n",
            "Epoch 6/10\n",
            "1/1 [==============================] - 0s 1ms/step - loss: 9.7789\n",
            "Epoch 7/10\n",
            "1/1 [==============================] - 0s 1ms/step - loss: 9.7230\n",
            "Epoch 8/10\n",
            "1/1 [==============================] - 0s 2ms/step - loss: 9.6776\n",
            "Epoch 9/10\n",
            "1/1 [==============================] - 0s 2ms/step - loss: 9.6475\n",
            "Epoch 10/10\n",
            "1/1 [==============================] - 0s 3ms/step - loss: 9.6284\n"
          ],
          "name": "stdout"
        },
        {
          "output_type": "execute_result",
          "data": {
            "text/plain": [
              "<tensorflow.python.keras.callbacks.History at 0x7f6be5c767f0>"
            ]
          },
          "metadata": {
            "tags": []
          },
          "execution_count": 8
        }
      ]
    },
    {
      "cell_type": "code",
      "metadata": {
        "id": "WiN7sVvIXc48",
        "colab": {
          "base_uri": "https://localhost:8080/",
          "height": 279
        },
        "outputId": "56df7ddc-26a2-4738-e196-354755d4ec63"
      },
      "source": [
        "#딥러닝 네트워크 회귀선 확인\n",
        "import matplotlib.pyplot as plt\n",
        "\n",
        "line_x = np.arange(min(x), max(x), 0.01)\n",
        "line_y = model.predict(line_x)\n",
        "\n",
        "plt.plot(line_x, line_y, 'r-')\n",
        "plt.plot(x,y,'bo')\n",
        "\n",
        "plt.xlabel('Population Growth Rate (%)')\n",
        "plt.ylabel('Elderly Population Rate (%)')\n",
        "plt.show()"
      ],
      "execution_count": null,
      "outputs": [
        {
          "output_type": "display_data",
          "data": {
            "image/png": "[encoded data removed]",
            "text/plain": [
              "<Figure size 432x288 with 1 Axes>"
            ]
          },
          "metadata": {
            "tags": [],
            "needs_background": "light"
          }
        }
      ]
    },
    {
      "cell_type": "code",
      "metadata": {
        "id": "niOk4BzZlEu1"
      },
      "source": [
        "optimizer = tf.keras.optimizers.Adam(lr=0.07)"
      ],
      "execution_count": null,
      "outputs": []
    },
    {
      "cell_type": "code",
      "metadata": {
        "id": "_hPnhVCWlaEM"
      },
      "source": [
        "#a와 b를 랜덤한 값으로 초기화\n",
        "a = tf.Variable(tf.random.uniform([1], 0, 1))\n",
        "b = tf.Variable(tf.random.uniform([1], 0, 1))"
      ],
      "execution_count": null,
      "outputs": []
    },
    {
      "cell_type": "code",
      "metadata": {
        "id": "9wEz-CU-lrbL",
        "colab": {
          "base_uri": "https://localhost:8080/",
          "height": 208
        },
        "outputId": "9e2f7c14-353b-4066-c6e4-a091cc1d11d6"
      },
      "source": [
        "#1000번의 학습을 거쳐 잔차의 제곱의 평균을 최소화\n",
        "for i in range(1000):\n",
        "  optimizer.minimize(compute_loss, var_list=[a, b])"
      ],
      "execution_count": null,
      "outputs": [
        {
          "output_type": "error",
          "ename": "NameError",
          "evalue": "ignored",
          "traceback": [
            "\u001b[0;31m---------------------------------------------------------------------------\u001b[0m",
            "\u001b[0;31mNameError\u001b[0m                                 Traceback (most recent call last)",
            "\u001b[0;32m<ipython-input-13-9573fbe25307>\u001b[0m in \u001b[0;36m<module>\u001b[0;34m()\u001b[0m\n\u001b[1;32m      1\u001b[0m \u001b[0;31m#1000번의 학습을 거쳐 잔차의 제곱의 평균을 최소화\u001b[0m\u001b[0;34m\u001b[0m\u001b[0;34m\u001b[0m\u001b[0;34m\u001b[0m\u001b[0m\n\u001b[1;32m      2\u001b[0m \u001b[0;32mfor\u001b[0m \u001b[0mi\u001b[0m \u001b[0;32min\u001b[0m \u001b[0mrange\u001b[0m\u001b[0;34m(\u001b[0m\u001b[0;36m1000\u001b[0m\u001b[0;34m)\u001b[0m\u001b[0;34m:\u001b[0m\u001b[0;34m\u001b[0m\u001b[0;34m\u001b[0m\u001b[0m\n\u001b[0;32m----> 3\u001b[0;31m   \u001b[0moptimizer\u001b[0m\u001b[0;34m.\u001b[0m\u001b[0mminimize\u001b[0m\u001b[0;34m(\u001b[0m\u001b[0mcompute_loss\u001b[0m\u001b[0;34m,\u001b[0m \u001b[0mvar_list\u001b[0m\u001b[0;34m=\u001b[0m\u001b[0;34m[\u001b[0m\u001b[0ma\u001b[0m\u001b[0;34m,\u001b[0m \u001b[0mb\u001b[0m\u001b[0;34m]\u001b[0m\u001b[0;34m)\u001b[0m\u001b[0;34m\u001b[0m\u001b[0;34m\u001b[0m\u001b[0m\n\u001b[0m",
            "\u001b[0;31mNameError\u001b[0m: name 'compute_loss' is not defined"
          ]
        }
      ]
    },
    {
      "cell_type": "code",
      "metadata": {
        "id": "6N9nywl3mBpj",
        "colab": {
          "base_uri": "https://localhost:8080/"
        },
        "outputId": "53bd6d9a-c9f9-47b5-b42f-9bcb0c6a8b50"
      },
      "source": [
        "import tensorflow as tf\n",
        "import numpy as np\n",
        "X = [0.3, -0.78, 1.26, 0.03, 1.11, 0.24, -0.24, -0.47, -0.77, -0.37, -0.85, -0.41, -0.27, 0.02, -0.76, 2.66]\n",
        "Y = [12.27, 14.44, 11.87, 18.75, 17.52, 16.37, 19.78, 19.51, 12.65, 14.74, 10.72, 21.94, 12.83, 15.51, 17.14, 14.42]\n",
        "# a와 b를 랜덤한 값으로 초기화합니다.\n",
        "# a = tf.Variable(random.random())\n",
        "# b = tf.Variable(random.random())\n",
        "a = tf.Variable(tf.random.uniform([1], 0, 1))\n",
        "b = tf.Variable(tf.random.uniform([1], 0, 1))\n",
        "# 잔차의 제곱의 평균을 반환하는 함수입니다.\n",
        "def compute_loss():\n",
        "  y_pred = a * X + b\n",
        "  loss = tf.reduce_mean((Y - y_pred) ** 2)\n",
        "  return loss\n",
        "optimizer = tf.keras.optimizers.Adam(lr=0.07)\n",
        "for i in range(1000):\n",
        "# 잔차의 제곱의 평균을 최소화(minimize)합니다.\n",
        "  optimizer.minimize(compute_loss, var_list=[a,b])\n",
        "  if i % 100 == 99:\n",
        "    print(i, 'a:', a.numpy(), 'b:', b.numpy(), 'loss:', compute_loss().numpy())"
      ],
      "execution_count": null,
      "outputs": [
        {
          "output_type": "stream",
          "text": [
            "99 a: [0.10452147] b: [7.0541134] loss: 83.83039\n",
            "199 a: [-0.1318437] b: [11.473093] loss: 27.348259\n",
            "299 a: [-0.26586553] b: [13.9836035] loss: 12.615845\n",
            "399 a: [-0.32645035] b: [15.118752] loss: 10.083224\n",
            "499 a: [-0.34806997] b: [15.523841] loss: 9.801918\n",
            "599 a: [-0.35418263] b: [15.638376] loss: 9.781759\n",
            "699 a: [-0.35555393] b: [15.664067] loss: 9.780831\n",
            "799 a: [-0.35579666] b: [15.668618] loss: 9.780804\n",
            "899 a: [-0.35583025] b: [15.669246] loss: 9.780804\n",
            "999 a: [-0.3558333] b: [15.669303] loss: 9.780805\n"
          ],
          "name": "stdout"
        }
      ]
    },
    {
      "cell_type": "code",
      "metadata": {
        "id": "dQ45ZhC7mirr"
      },
      "source": [
        "#텐서플로만을 이용한 회귀 분석 회귀선 그리기\n",
        "import matplotlib.pyplot as plt\n",
        "line_x = np.arange(min(X), max(X), 0.01)\n",
        "line_y = a * line_x + b\n",
        "# 그래프를 그립니다.\n",
        "plt.plot(line_x,line_y,'r-')\n",
        "plt.plot(X,Y,'bo')\n",
        "plt.xlabel('Population Growth Rate (%)')\n",
        "plt.ylabel('Elderly Population Rate (%)')\n",
        "plt.show()"
      ],
      "execution_count": null,
      "outputs": []
    },
    {
      "cell_type": "code",
      "metadata": {
        "id": "EzRJOZXpmzhT",
        "colab": {
          "base_uri": "https://localhost:8080/",
          "height": 374
        },
        "outputId": "2488e02a-c83b-4bff-8cd7-a09823ab04fb"
      },
      "source": [
        "import numpy as np\n",
        "import matplotlib.pyplot as plt\n",
        "import math\n",
        "def sigmoid(x):\n",
        "  return 1 / (1 + math.exp(-x))\n",
        "\n",
        "x = np.arange(-5, 5, 0.01)\n",
        "sigmoid_x = [sigmoid(z) for z in x]\n",
        "tanh_x = [math.tanh(z) for z in x]\n",
        "relu = [0 if z < 0 else z for z in x]\n",
        "\n",
        "plt.figure(figsize = (8, 6))\n",
        "\n",
        "plt.axhline(0, color='gray')\n",
        "plt.axvline(0, color='gray')\n",
        "plt.plot(x, sigmoid_x, 'b-', label='sigmoid')\n",
        "plt.plot(x, tanh_x, 'r--', label='tanh')\n",
        "plt.plot(x, relu, 'g', label='relu')\n",
        "plt.legend()\n",
        "plt.show()"
      ],
      "execution_count": null,
      "outputs": [
        {
          "output_type": "display_data",
          "data": {
            "image/png": "[encoded data removed]",
            "text/plain": [
              "<Figure size 576x432 with 1 Axes>"
            ]
          },
          "metadata": {
            "tags": [],
            "needs_background": "light"
          }
        }
      ]
    },
    {
      "cell_type": "code",
      "metadata": {
        "id": "tv5ske5KnuW9",
        "colab": {
          "base_uri": "https://localhost:8080/"
        },
        "outputId": "b16cba29-f460-45ba-ec3f-57933b65fc41"
      },
      "source": [
        "#보스턴 자료 불러오기\n",
        "from tensorflow.keras.datasets import boston_housing\n",
        "(train_x, train_y), (test_x, test_y) = boston_housing.load_data()\n",
        "\n",
        "print(train_x.shape, test_x.shape)\n",
        "print(train_x[0])\n",
        "print(train_y[0])"
      ],
      "execution_count": null,
      "outputs": [
        {
          "output_type": "stream",
          "text": [
            "Downloading data from https://storage.googleapis.com/tensorflow/tf-keras-datasets/boston_housing.npz\n",
            "57344/57026 [==============================] - 0s 0us/step\n",
            "(404, 13) (102, 13)\n",
            "[  1.23247   0.        8.14      0.        0.538     6.142    91.7\n",
            "   3.9769    4.      307.       21.      396.9      18.72   ]\n",
            "15.2\n"
          ],
          "name": "stdout"
        }
      ]
    },
    {
      "cell_type": "code",
      "metadata": {
        "id": "OZyS3m3DowuZ",
        "colab": {
          "base_uri": "https://localhost:8080/"
        },
        "outputId": "81ddad9e-15dc-43d8-97e5-06b4f04d8606"
      },
      "source": [
        "#데이터 전처리\n",
        "x_mean = train_x.mean(axis=0)\n",
        "x_std = train_x.std(axis=0)\n",
        "train_x -= x_mean\n",
        "train_x /= x_std\n",
        "test_x -= x_mean\n",
        "test_x /= x_std\n",
        "\n",
        "y_mean = train_y.mean(axis=0)\n",
        "y_std = train_y.std(axis=0)\n",
        "train_y -= y_mean\n",
        "train_y /= y_std\n",
        "test_y -= y_mean\n",
        "test_y /= y_std\n",
        "\n",
        "print(train_x[0])\n",
        "print(train_y[0])"
      ],
      "execution_count": null,
      "outputs": [
        {
          "output_type": "stream",
          "text": [
            "[-0.27224633 -0.48361547 -0.43576161 -0.25683275 -0.1652266  -0.1764426\n",
            "  0.81306188  0.1166983  -0.62624905 -0.59517003  1.14850044  0.44807713\n",
            "  0.8252202 ]\n",
            "-0.7821526033779157\n"
          ],
          "name": "stdout"
        }
      ]
    },
    {
      "cell_type": "code",
      "metadata": {
        "id": "h8AwL1C4pK5K"
      },
      "source": [
        "#보스턴 회귀 모델 생성\n",
        "model = tf.keras.models.Sequential([\n",
        "  tf.keras.layers.Dense(units=52, activation='relu', input_shape=(13,)),\n",
        "  tf.keras.layers.Dense(units=52, activation='relu'),\n",
        "  tf.keras.layers.Dense(units=52, activation='relu'),\n",
        "])\n",
        "\n",
        "model.compile(optimizer=tf.keras.optimizers.Adam(lr=0.07), loss='mse')\n",
        "\n",
        "model.summary()"
      ],
      "execution_count": null,
      "outputs": []
    },
    {
      "cell_type": "code",
      "metadata": {
        "id": "PmwGtk0Rp5_O"
      },
      "source": [
        "#회귀 모델 학습\n",
        "history = model.fit(train_x, train_y, epochs=25, batch_size=32, validation_split=0.25)\n"
      ],
      "execution_count": null,
      "outputs": []
    },
    {
      "cell_type": "code",
      "metadata": {
        "id": "gPiaaHrzqB9T"
      },
      "source": [
        "# 회귀 모델 평가\n",
        "model.evaluate(test_x, test_y)"
      ],
      "execution_count": null,
      "outputs": []
    },
    {
      "cell_type": "code",
      "metadata": {
        "id": "aEgiq4vqqXGT"
      },
      "source": [
        "# 실제 주택 가격과 예측 주택 가격 시각화\n",
        "import matplotlib.pyplot as plt\n",
        "pred_Y = model.predict(test_x)\n",
        "plt.figure(figsize=(8,8))\n",
        "plt.plot(test_y, pred_Y, 'b.')\n",
        "plt.axis([min(test_y), max(test_y), min(test_y), max(test_y)])\n",
        "# y=x에 해당하는 대각선\n",
        "plt.plot([min(test_y), max(test_y)], [min(test_y), max(test_y)], ls=\"--\", c=\".5\")\n",
        "plt.xlabel('test_Y')\n",
        "plt.ylabel('pred_Y')\n",
        "plt.show()"
      ],
      "execution_count": null,
      "outputs": []
    },
    {
      "cell_type": "code",
      "metadata": {
        "id": "n6lS0C8NqaAj"
      },
      "source": [
        "#자동으로 학습 중단\n",
        "history = model.fit(train_x, train_y, epochs=25, batch_size=32, validation_split=0.25, callbacks=[tf.keras.callbacks.EarlyStopping(patience=3, monitor='val_loss')])"
      ],
      "execution_count": null,
      "outputs": []
    },
    {
      "cell_type": "code",
      "metadata": {
        "id": "WDUMstQdqxY8"
      },
      "source": [
        "#일찍 멈춤 기능\n",
        "tf.keras.callbacks.EarlyStopping"
      ],
      "execution_count": null,
      "outputs": []
    },
    {
      "cell_type": "code",
      "metadata": {
        "id": "LI75kxBYq6sj"
      },
      "source": [
        "#13에폭에서도 그 기록을 갱신하지 못했으므로 학습을 중단\n",
        "history = model.fit(train_x, train_y, epochs=25, batch_size=32, validation_split=0.25,callbacks=[tf.keras.callbacks.EarlyStopping(patience=3, monitor='val_loss')])"
      ],
      "execution_count": null,
      "outputs": []
    },
    {
      "cell_type": "code",
      "metadata": {
        "id": "GwS3QWGxrBmi"
      },
      "source": [
        "#회귀 모델 학습 결과 시각화\n",
        "import matplotlib.pyplot as plt\n",
        "plt.plot(history.history['loss'],'b-', label='loss')\n",
        "plt.plot(history.history['val_loss'],'r--', label='val_loss')\n",
        "plt.xlabel('Epoch')\n",
        "plt.legend()\n",
        "plt.show()"
      ],
      "execution_count": null,
      "outputs": []
    },
    {
      "cell_type": "code",
      "metadata": {
        "id": "pYhciBsZrd9l"
      },
      "source": [
        "#회귀모델 평가\n",
        "model.evaluate(test_x, test_y)"
      ],
      "execution_count": null,
      "outputs": []
    },
    {
      "cell_type": "code",
      "metadata": {
        "id": "ddwi1heYrltD"
      },
      "source": [
        ""
      ],
      "execution_count": null,
      "outputs": []
    }
  ]
}